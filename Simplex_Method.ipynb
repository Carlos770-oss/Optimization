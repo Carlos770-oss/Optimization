{
  "nbformat": 4,
  "nbformat_minor": 0,
  "metadata": {
    "colab": {
      "provenance": []
    },
    "kernelspec": {
      "name": "python3",
      "display_name": "Python 3"
    },
    "language_info": {
      "name": "python"
    }
  },
  "cells": [
    {
      "cell_type": "code",
      "execution_count": 2,
      "metadata": {
        "id": "E7FoCxfitxkG",
        "outputId": "aade85ae-457b-4a76-8dc3-7a88793c9c90",
        "colab": {
          "base_uri": "https://localhost:8080/"
        }
      },
      "outputs": [
        {
          "output_type": "stream",
          "name": "stdout",
          "text": [
            "Solución óptima: [2. 6.]\n",
            "Valor óptimo de la función: -36.0\n"
          ]
        },
        {
          "output_type": "stream",
          "name": "stderr",
          "text": [
            "<ipython-input-2-72c32f81a09f>:55: RuntimeWarning: divide by zero encountered in divide\n",
            "  radios = xb / d #radio\n"
          ]
        }
      ],
      "source": [
        "import numpy as np\n",
        "\n",
        "def simplex(c, A, b):\n",
        "    \"\"\"\n",
        "    Simplex method for solving linear programming problems.\n",
        "\n",
        "    Parameters:\n",
        "    c : ndarray\n",
        "        Coefficients of the objective function.\n",
        "    A : ndarray\n",
        "        Coefficient matrix of the constraints.\n",
        "    b : ndarray\n",
        "        Right-hand side of the constraints.\n",
        "\n",
        "    Returns:\n",
        "    x : ndarray\n",
        "        Optimal solution vector.\n",
        "    z : float\n",
        "        Optimal value of the objective function.\n",
        "    \"\"\"\n",
        "    # Number of variables and constraints\n",
        "    m, n = A.shape\n",
        "\n",
        "    # Add slack variables to convert inequalities to equalities\n",
        "    A = np.hstack((A, np.eye(m)))\n",
        "    c = np.concatenate((c, np.zeros(m)))\n",
        "\n",
        "    # Initial basic feasible solution\n",
        "    B = np.arange(n, n + m)\n",
        "    N = np.arange(n)\n",
        "    cb = c[B]\n",
        "    cn = c[N]\n",
        "\n",
        "    # Iteratively improve the solution\n",
        "    while True:\n",
        "        # Compute reduced costs\n",
        "        xb = np.linalg.solve(A[:, B], b)\n",
        "        lambd = np.linalg.solve(A[:, B].T, cb)\n",
        "        r = cn - lambd @ A[:, N]\n",
        "\n",
        "        # Check for optimality\n",
        "        if np.all(r >= 0):\n",
        "            # Optimal solution found\n",
        "            x = np.zeros(n + m)\n",
        "            x[B] = xb\n",
        "            return x[:n], cb @ xb\n",
        "\n",
        "        # Determine entering variable (most negative reduced cost)\n",
        "        entering = N[np.argmin(r)]\n",
        "\n",
        "        # Determine leaving variable (minimum ratio test)\n",
        "        d = np.linalg.solve(A[:, B], A[:, entering])\n",
        "        if np.all(d <= 0):\n",
        "            raise ValueError(\"Unbounded solution\")\n",
        "\n",
        "        ratios = xb / d\n",
        "        leaving = B[np.argmin(ratios[ratios > 0])]\n",
        "\n",
        "        # Update basic and non-basic variables\n",
        "        B[B == leaving] = entering\n",
        "        N[N == entering] = leaving\n",
        "\n",
        "        # Update costs\n",
        "        cb = c[B]\n",
        "        cn = c[N]\n",
        "\n",
        "# Example usage\n",
        "c = np.array([-3, -5])\n",
        "A = np.array([[1, 0], [0, 2], [3, 2]])\n",
        "b = np.array([4, 12, 18])\n",
        "\n",
        "x_opt, z_opt = simplex(c, A, b)\n",
        "print(\"Optimal solution:\", x_opt)\n",
        "print(\"Optimal value:\", z_opt)\n"
      ]
    }
  ]
}