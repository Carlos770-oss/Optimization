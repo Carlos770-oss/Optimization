{
  "nbformat": 4,
  "nbformat_minor": 0,
  "metadata": {
    "colab": {
      "provenance": []
    },
    "kernelspec": {
      "name": "python3",
      "display_name": "Python 3"
    },
    "language_info": {
      "name": "python"
    }
  },
  "cells": [
    {
      "cell_type": "code",
      "execution_count": 1,
      "metadata": {
        "colab": {
          "base_uri": "https://localhost:8080/"
        },
        "id": "fa1ZilL3bk1_",
        "outputId": "bdbedc05-7fae-47e6-a534-92b56dea683a"
      },
      "outputs": [
        {
          "output_type": "stream",
          "name": "stdout",
          "text": [
            "Mejor solución entera encontrada: [0. 2.]\n",
            "Valor óptimo: 10.0\n"
          ]
        }
      ],
      "source": [
        "import numpy as np\n",
        "from scipy.optimize import linprog\n",
        "\n",
        "# Función para resolver el problema de forma relajada (sin requerir enteros)\n",
        "def solve_relaxed(c, A, b):\n",
        "    \"\"\"\n",
        "    Resuelve el problema de programación lineal relajada (sin requerir enteros).\n",
        "    :param c: Coeficientes de la función objetivo.\n",
        "    :param A: Matriz de restricciones.\n",
        "    :param b: Límite de las restricciones.\n",
        "    :return: Resultado de linprog.\n",
        "    \"\"\"\n",
        "    result = linprog(c=-np.array(c), A_ub=A, b_ub=b, method=\"highs\")\n",
        "    return result\n",
        "\n",
        "# Función de Branch and Bound\n",
        "def branch_and_bound(c, A, b):\n",
        "    \"\"\"\n",
        "    Aplica el método Branch and Bound para resolver un problema de programación entera.\n",
        "    :param c: Coeficientes de la función objetivo.\n",
        "    :param A: Matriz de restricciones.\n",
        "    :param b: Límite de las restricciones.\n",
        "    :return: Mejor solución entera encontrada.\n",
        "    \"\"\"\n",
        "    best_solution = None  # Mejor solución factible encontrada\n",
        "    best_value = float('-inf')  # Mejor valor de la función objetivo\n",
        "\n",
        "    # Pila para manejar los nodos del árbol de búsqueda\n",
        "    stack = [(A, b)]\n",
        "\n",
        "    while stack:\n",
        "        A_current, b_current = stack.pop()  # Sacamos un nodo a procesar\n",
        "\n",
        "        # Resolver el problema relajado\n",
        "        result = solve_relaxed(c, A_current, b_current)\n",
        "\n",
        "        if not result.success:  # Si no tiene solución, continuamos\n",
        "            continue\n",
        "\n",
        "        x_relaxed = result.x  # Solución continua (relajada)\n",
        "        z_relaxed = -result.fun  # Valor de la función objetivo\n",
        "\n",
        "        # Si el valor es menor que el mejor encontrado, descartamos\n",
        "        if z_relaxed <= best_value:\n",
        "            continue\n",
        "\n",
        "        # Si todos los valores son enteros, es una solución candidata\n",
        "        if np.all(np.floor(x_relaxed) == x_relaxed):\n",
        "            if z_relaxed > best_value:\n",
        "                best_solution = x_relaxed\n",
        "                best_value = z_relaxed\n",
        "            continue\n",
        "\n",
        "        # Encontramos la variable fraccional más significativa para ramificar\n",
        "        idx = np.argmax(x_relaxed - np.floor(x_relaxed))\n",
        "        x_fractional = x_relaxed[idx]\n",
        "\n",
        "        # Crear restricciones adicionales para dividir el problema en dos ramas\n",
        "        new_constraint1 = np.zeros_like(c)\n",
        "        new_constraint1[idx] = 1  # x[idx] <= floor(x_fractional)\n",
        "\n",
        "        new_constraint2 = np.zeros_like(c)\n",
        "        new_constraint2[idx] = -1  # x[idx] >= ceil(x_fractional)\n",
        "\n",
        "        # Agregar las nuevas ramas a la pila\n",
        "        stack.append((np.vstack([A_current, new_constraint1]), np.append(b_current, np.floor(x_fractional))))\n",
        "        stack.append((np.vstack([A_current, new_constraint2]), np.append(b_current, -np.ceil(x_fractional))))\n",
        "\n",
        "    return best_solution, best_value\n",
        "\n",
        "# Definir coeficientes de la función objetivo\n",
        "c = [3, 5]\n",
        "\n",
        "# Definir restricciones\n",
        "A = [[2, 3], [1, 2]]  # Coeficientes de las restricciones\n",
        "b = [6, 4]  # Límites de las restricciones\n",
        "\n",
        "# Resolver usando Branch and Bound\n",
        "solution, value = branch_and_bound(c, A, b)\n",
        "\n",
        "print(\"Mejor solución entera encontrada:\", solution)\n",
        "print(\"Valor óptimo:\", value)\n"
      ]
    }
  ]
}